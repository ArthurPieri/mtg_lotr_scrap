{
 "cells": [
  {
   "cell_type": "code",
   "execution_count": null,
   "metadata": {},
   "outputs": [],
   "source": [
    "from functools import wraps\n",
    "import time\n",
    "\n",
    "\n",
    "def timeit(func):\n",
    "    @wraps(func)\n",
    "    def timeit_wrapper(*args, **kwargs):\n",
    "        start_time = time.perf_counter()\n",
    "        result = func(*args, **kwargs)\n",
    "        end_time = time.perf_counter()\n",
    "        total_time = end_time - start_time\n",
    "        print(f'Function {func.__name__}{args} {kwargs} Took {total_time:.4f} seconds')\n",
    "        return result\n",
    "    return timeit_wrapper"
   ]
  },
  {
   "cell_type": "code",
   "execution_count": 1,
   "metadata": {},
   "outputs": [],
   "source": [
    "import pandas as pd\n",
    "import json\n",
    "from pprint import pformat\n",
    "import sqlite3\n",
    "conn = sqlite3.connect('lotr.db')"
   ]
  },
  {
   "cell_type": "code",
   "execution_count": null,
   "metadata": {},
   "outputs": [],
   "source": [
    "@timeit\n",
    "def get_set_from_json(file_name:str):\n",
    "    with open(file_name) as f:\n",
    "        data = json.load(f)\n",
    "\n",
    "    lotr_set = data['data']['cards']\n",
    "\n",
    "    return lotr_set\n",
    "\n",
    "@timeit\n",
    "def get_all_keys(json_array:list):\n",
    "    all_keys = set().union(*(d.keys() for d in json_array))\n",
    "    return all_keys\n",
    "\n",
    "lotr_set = get_set_from_json('lotr.json')\n",
    "all_keys = get_all_keys(lotr_set)"
   ]
  },
  {
   "cell_type": "code",
   "execution_count": null,
   "metadata": {},
   "outputs": [],
   "source": [
    "drop_list = ['availability', 'edhrecRank', 'colorIdentity', 'foreignData', 'frameVersion', 'language', 'layout', \n",
    "    'printings', 'securityStamp', 'setCode', 'boosterTypes', 'hasAlternativeDeckLimit', 'edhrecSaltiness', 'flavorName', \n",
    "    'borderColor', 'isReprint', 'asciiName']"
   ]
  },
  {
   "cell_type": "code",
   "execution_count": null,
   "metadata": {},
   "outputs": [],
   "source": [
    "all_keys = sorted(all_keys)\n",
    "print(len(all_keys),all_keys)\n",
    "for d in drop_list:\n",
    "    all_keys.remove(d)\n",
    "print(len(all_keys),all_keys)"
   ]
  },
  {
   "cell_type": "code",
   "execution_count": null,
   "metadata": {},
   "outputs": [],
   "source": [
    "set_lists = {}\n",
    "set_dicts = {}\n",
    "\n",
    "for card in lotr_set:\n",
    "    for key in card:\n",
    "        if key not in all_keys:\n",
    "            continue\n",
    "        if isinstance(card[key], list):\n",
    "            if key not in set_lists.keys():\n",
    "                set_lists[key] = []\n",
    "        if isinstance(card[key], dict):\n",
    "            if key not in set_dicts.keys():\n",
    "                set_dicts[key] = []\n",
    "\n",
    "for i, card in enumerate(lotr_set):\n",
    "    \n",
    "    for key in card:\n",
    "        if not card[key]:\n",
    "            card[key] = \"None\"\n",
    "        if isinstance(card[key], list):\n",
    "            if key not in set_lists.keys():\n",
    "                set_lists[key] = []\n",
    "            for item in card[key]:\n",
    "                new_card = {}\n",
    "                new_card[key] = card[key]\n",
    "                new_card['name'] = card['name']\n",
    "                new_card['number'] = card['number']\n",
    "                new_card['uuid'] = card['uuid']\n",
    "                set_lists[key].append(new_card)\n",
    "        if isinstance(card[key], dict):\n",
    "            if key not in set_dicts.keys():\n",
    "                set_dicts[key] = []\n",
    "            new_card = {}\n",
    "            new_card = card[key]\n",
    "            new_card['name'] = card['name']\n",
    "            new_card['number'] = card['number']\n",
    "            new_card['uuid'] = card['uuid']\n",
    "            set_dicts[key].append(new_card)\n",
    "\n",
    "print(set_lists.keys())\n",
    "print(set_dicts.keys())\n"
   ]
  },
  {
   "cell_type": "code",
   "execution_count": null,
   "metadata": {},
   "outputs": [],
   "source": [
    "lotr = {}\n",
    "for key in all_keys:\n",
    "    if key in set_lists or key in set_dicts:\n",
    "        continue\n",
    "    lotr[key] = [lotr_set[i].get(key, None) for i in range(len(lotr_set))]"
   ]
  },
  {
   "cell_type": "code",
   "execution_count": null,
   "metadata": {},
   "outputs": [],
   "source": [
    "lotr_df = pd.DataFrame(lotr)\n",
    "lotr_df.head()"
   ]
  },
  {
   "cell_type": "code",
   "execution_count": null,
   "metadata": {},
   "outputs": [],
   "source": [
    "print(pformat(set_lists['keywords'][0]))"
   ]
  },
  {
   "cell_type": "code",
   "execution_count": null,
   "metadata": {},
   "outputs": [],
   "source": [
    "print(pformat(set_lists))"
   ]
  },
  {
   "cell_type": "code",
   "execution_count": null,
   "metadata": {},
   "outputs": [],
   "source": [
    "for key in set_lists:\n",
    "    print(key, len(set_lists[key]))"
   ]
  },
  {
   "cell_type": "code",
   "execution_count": null,
   "metadata": {},
   "outputs": [],
   "source": [
    "print(pformat(set_lists['finishes'][0]))"
   ]
  },
  {
   "cell_type": "code",
   "execution_count": null,
   "metadata": {},
   "outputs": [],
   "source": [
    "print(pformat(set_dicts))"
   ]
  },
  {
   "cell_type": "code",
   "execution_count": null,
   "metadata": {},
   "outputs": [],
   "source": [
    "\n",
    "for k in set_dicts:\n",
    "    print(k)\n",
    "    print(set_dicts[k])\n",
    "    #print(set_dicts[k][0].keys())\n",
    "    #df = pd.DataFrame(set_dicts[k])\n",
    "    #print(df.head())\n",
    "    #lotr_df = lotr_df.drop(columns=set_dicts[k][0].keys())\n",
    "    # df.to_sql(f'{k}', conn, if_exists='replace', index=False)\n"
   ]
  },
  {
   "cell_type": "code",
   "execution_count": null,
   "metadata": {},
   "outputs": [],
   "source": [
    "for k in set_lists:\n",
    "    print(k)\n",
    "    # print(pformat(set_lists[k][0]))\n",
    "    # create dataframe and save it as a new table in lotr.db\n",
    "    # df = pd.DataFrame(set_lists[k])\n",
    "    # lotr_df = lotr_df.drop(columns=[k])\n",
    "    # df.to_sql(f'{k}', conn, if_exists='replace', index=False)\n"
   ]
  },
  {
   "cell_type": "code",
   "execution_count": null,
   "metadata": {},
   "outputs": [],
   "source": [
    "lotr_df.to_sql('cards', conn, if_exists='replace', index=False)"
   ]
  },
  {
   "cell_type": "code",
   "execution_count": null,
   "metadata": {},
   "outputs": [],
   "source": [
    "print(pformat(set_lists['finishes']))"
   ]
  },
  {
   "cell_type": "code",
   "execution_count": null,
   "metadata": {},
   "outputs": [],
   "source": [
    "# read data from faltantes.json\n",
    "with open('faltantes.json') as _file:\n",
    "    #faltantes = json.dumps(_file)\n",
    "    faltantes = json.loads(_file.read())"
   ]
  },
  {
   "cell_type": "code",
   "execution_count": null,
   "metadata": {},
   "outputs": [],
   "source": [
    "print(faltantes)\n",
    "# for each key on json faltantes, create a new table on lotr.db\n"
   ]
  },
  {
   "cell_type": "code",
   "execution_count": null,
   "metadata": {},
   "outputs": [],
   "source": [
    "for i in range(5):\n",
    "    globals()[f'var{i}'] = f'Value for variable {i}'\n",
    "    print(globals()[f'var{i}'])  # Prints 'Value for variable 0', 'Value for variable 1', etc.\n"
   ]
  }
 ],
 "metadata": {
  "kernelspec": {
   "display_name": "Python 3",
   "language": "python",
   "name": "python3"
  },
  "language_info": {
   "codemirror_mode": {
    "name": "ipython",
    "version": 3
   },
   "file_extension": ".py",
   "mimetype": "text/x-python",
   "name": "python",
   "nbconvert_exporter": "python",
   "pygments_lexer": "ipython3",
   "version": "3.11.3"
  },
  "orig_nbformat": 4
 },
 "nbformat": 4,
 "nbformat_minor": 2
}
