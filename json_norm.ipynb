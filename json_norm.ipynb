{
 "cells": [
  {
   "cell_type": "code",
   "execution_count": 2,
   "metadata": {},
   "outputs": [],
   "source": [
    "import pandas as pd\n",
    "import json\n",
    "from pprint import pformat\n",
    "import sqlite3\n",
    "#\n",
    "from functools import wraps\n",
    "import time\n",
    "\n",
    "\n",
    "def timeit(func):\n",
    "    @wraps(func)\n",
    "    def timeit_wrapper(*args, **kwargs):\n",
    "        start_time = time.perf_counter()\n",
    "        result = func(*args, **kwargs)\n",
    "        end_time = time.perf_counter()\n",
    "        total_time = end_time - start_time\n",
    "        print(f'Function {func.__name__} Took {total_time:.4f} seconds')\n",
    "        return result\n",
    "    return timeit_wrapper"
   ]
  },
  {
   "cell_type": "code",
   "execution_count": 3,
   "metadata": {},
   "outputs": [
    {
     "name": "stdout",
     "output_type": "stream",
     "text": [
      "Function get_set_from_json Took 0.0181 seconds\n"
     ]
    }
   ],
   "source": [
    "@timeit\n",
    "def get_set_from_json(file_name:str):\n",
    "    with open(file_name) as f:\n",
    "        data = json.load(f)\n",
    "\n",
    "    lotr_set = data['data']['cards']\n",
    "\n",
    "    return lotr_set\n",
    "\n",
    "lotr_set = get_set_from_json('ltr.json')"
   ]
  },
  {
   "cell_type": "code",
   "execution_count": 4,
   "metadata": {},
   "outputs": [],
   "source": [
    "drop_list = ['artist','availability','borderColor','colors','colorIdentity',\n",
    "    'convertedManaCost','edhrecRank','colorIdentity','foreignData',\n",
    "    'frameVersion','isStarter','language','layout','legalities',\n",
    "    'manaCost','manaValue','printings','securityStamp','setCode',\n",
    "    'power', 'toughness', 'edhrecSaltiness','isReprint','flavorName',\n",
    "    'hasAlternativeDeckLimit']\n",
    "\n",
    "all_keys = set().union(*(d.keys() for d in lotr_set))\n",
    "all_keys = sorted(all_keys)\n",
    "new_dict = {}\n",
    "lists_keys = []\n",
    "dicts_keys = []\n",
    "for key in all_keys:\n",
    "    new_dict[key] = [card[key] if key in card else None for card in lotr_set]\n",
    "for key in drop_list:\n",
    "    if key in new_dict:\n",
    "        new_dict.pop(key)"
   ]
  },
  {
   "cell_type": "code",
   "execution_count": 7,
   "metadata": {},
   "outputs": [],
   "source": [
    "norm = pd.json_normalize(lotr_set)\n",
    "for key in drop_list:\n",
    "    if key in norm.columns:\n",
    "        norm.drop(key, axis=1, inplace=True)"
   ]
  },
  {
   "cell_type": "code",
   "execution_count": 9,
   "metadata": {},
   "outputs": [
    {
     "data": {
      "text/plain": [
       "finishes                              object\n",
       "frameEffects                          object\n",
       "hasFoil                                 bool\n",
       "hasNonFoil                              bool\n",
       "isFullArt                             object\n",
       "keywords                              object\n",
       "name                                  object\n",
       "number                                object\n",
       "promoTypes                            object\n",
       "rarity                                object\n",
       "subtypes                              object\n",
       "supertypes                            object\n",
       "text                                  object\n",
       "type                                  object\n",
       "types                                 object\n",
       "uuid                                  object\n",
       "variations                            object\n",
       "identifiers.mcmId                     object\n",
       "identifiers.mcmMetaId                 object\n",
       "identifiers.mtgjsonV4Id               object\n",
       "identifiers.mtgoId                    object\n",
       "identifiers.scryfallId                object\n",
       "identifiers.scryfallIllustrationId    object\n",
       "identifiers.scryfallOracleId          object\n",
       "legalities.alchemy                    object\n",
       "legalities.commander                  object\n",
       "legalities.duel                       object\n",
       "legalities.historic                   object\n",
       "legalities.historicbrawl              object\n",
       "legalities.legacy                     object\n",
       "legalities.modern                     object\n",
       "legalities.oathbreaker                object\n",
       "legalities.vintage                    object\n",
       "purchaseUrls.cardmarket               object\n",
       "boosterTypes                          object\n",
       "flavorText                            object\n",
       "identifiers.cardKingdomFoilId         object\n",
       "identifiers.cardKingdomId             object\n",
       "identifiers.mtgArenaId                object\n",
       "identifiers.tcgplayerProductId        object\n",
       "legalities.pauper                     object\n",
       "purchaseUrls.cardKingdom              object\n",
       "purchaseUrls.cardKingdomFoil          object\n",
       "purchaseUrls.tcgplayer                object\n",
       "leadershipSkills.brawl                object\n",
       "leadershipSkills.commander            object\n",
       "leadershipSkills.oathbreaker          object\n",
       "asciiName                             object\n",
       "legalities.brawl                      object\n",
       "legalities.explorer                   object\n",
       "legalities.future                     object\n",
       "legalities.gladiator                  object\n",
       "legalities.paupercommander            object\n",
       "legalities.penny                      object\n",
       "legalities.pioneer                    object\n",
       "legalities.predh                      object\n",
       "legalities.premodern                  object\n",
       "legalities.standard                   object\n",
       "isAlternative                         object\n",
       "isPromo                               object\n",
       "dtype: object"
      ]
     },
     "execution_count": 9,
     "metadata": {},
     "output_type": "execute_result"
    }
   ],
   "source": [
    "norm.dtypes"
   ]
  },
  {
   "cell_type": "code",
   "execution_count": 10,
   "metadata": {},
   "outputs": [
    {
     "name": "stdout",
     "output_type": "stream",
     "text": [
      "finishes object\n",
      "frameEffects object\n",
      "hasFoil bool\n",
      "hasNonFoil bool\n",
      "isFullArt object\n",
      "keywords object\n",
      "name object\n",
      "number object\n",
      "promoTypes object\n",
      "rarity object\n",
      "subtypes object\n",
      "supertypes object\n",
      "text object\n",
      "type object\n",
      "types object\n",
      "uuid object\n",
      "variations object\n",
      "identifiers.mcmId object\n",
      "identifiers.mcmMetaId object\n",
      "identifiers.mtgjsonV4Id object\n",
      "identifiers.mtgoId object\n",
      "identifiers.scryfallId object\n",
      "identifiers.scryfallIllustrationId object\n",
      "identifiers.scryfallOracleId object\n",
      "legalities.alchemy object\n",
      "legalities.commander object\n",
      "legalities.duel object\n",
      "legalities.historic object\n",
      "legalities.historicbrawl object\n",
      "legalities.legacy object\n",
      "legalities.modern object\n",
      "legalities.oathbreaker object\n",
      "legalities.vintage object\n",
      "purchaseUrls.cardmarket object\n",
      "boosterTypes object\n",
      "flavorText object\n",
      "identifiers.cardKingdomFoilId object\n",
      "identifiers.cardKingdomId object\n",
      "identifiers.mtgArenaId object\n",
      "identifiers.tcgplayerProductId object\n",
      "legalities.pauper object\n",
      "purchaseUrls.cardKingdom object\n",
      "purchaseUrls.cardKingdomFoil object\n",
      "purchaseUrls.tcgplayer object\n",
      "leadershipSkills.brawl object\n",
      "leadershipSkills.commander object\n",
      "leadershipSkills.oathbreaker object\n",
      "asciiName object\n",
      "legalities.brawl object\n",
      "legalities.explorer object\n",
      "legalities.future object\n",
      "legalities.gladiator object\n",
      "legalities.paupercommander object\n",
      "legalities.penny object\n",
      "legalities.pioneer object\n",
      "legalities.predh object\n",
      "legalities.premodern object\n",
      "legalities.standard object\n",
      "isAlternative object\n",
      "isPromo object\n"
     ]
    }
   ],
   "source": [
    "for col in norm.columns:\n",
    "    print(col, norm[col].dtype)"
   ]
  }
 ],
 "metadata": {
  "kernelspec": {
   "display_name": "magictg-lotr-cards-ors2VGY0-py3.11",
   "language": "python",
   "name": "python3"
  },
  "language_info": {
   "codemirror_mode": {
    "name": "ipython",
    "version": 3
   },
   "file_extension": ".py",
   "mimetype": "text/x-python",
   "name": "python",
   "nbconvert_exporter": "python",
   "pygments_lexer": "ipython3",
   "version": "3.11.3"
  },
  "orig_nbformat": 4
 },
 "nbformat": 4,
 "nbformat_minor": 2
}
