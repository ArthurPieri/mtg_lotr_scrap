{
 "cells": [
  {
   "cell_type": "code",
   "execution_count": 13,
   "metadata": {},
   "outputs": [],
   "source": [
    "import pandas as pd\n",
    "import json\n",
    "from pprint import pformat\n",
    "import sqlite3"
   ]
  },
  {
   "cell_type": "code",
   "execution_count": 17,
   "metadata": {},
   "outputs": [],
   "source": [
    "def get_set_from_json(file_name:str):\n",
    "    with open(file_name) as f:\n",
    "        data = json.load(f)\n",
    "\n",
    "    lotr_set = data['data']['cards']\n",
    "\n",
    "    return lotr_set\n",
    "\n",
    "lotr_set = get_set_from_json('ltr.json')"
   ]
  },
  {
   "cell_type": "code",
   "execution_count": 19,
   "metadata": {},
   "outputs": [
    {
     "name": "stdout",
     "output_type": "stream",
     "text": [
      "New Dict dict_keys(['asciiName', 'flavorText', 'hasFoil', 'hasNonFoil', 'isAlternative', 'isFullArt', 'isPromo', 'name', 'number', 'rarity', 'text', 'type', 'uuid'])\n",
      "Lists ['boosterTypes', 'finishes', 'frameEffects', 'keywords', 'promoTypes', 'subtypes', 'supertypes', 'types', 'variations', 'uuid', 'number']\n",
      "dicts ['identifiers', 'leadershipSkills', 'purchaseUrls']\n"
     ]
    }
   ],
   "source": [
    "drop_list = ['artist','availability','borderColor','colors','colorIdentity',\n",
    "    'convertedManaCost','edhrecRank','colorIdentity','foreignData',\n",
    "    'frameVersion','isStarter','language','layout','legalities',\n",
    "    'manaCost','manaValue','printings','securityStamp','setCode',\n",
    "    'power', 'toughness', 'edhrecSaltiness','isReprint','flavorName',\n",
    "    'hasAlternativeDeckLimit']\n",
    "\n",
    "all_keys = set().union(*(d.keys() for d in lotr_set))\n",
    "all_keys = sorted(all_keys)\n",
    "new_dict = {}\n",
    "lists_keys = []\n",
    "dicts_keys = []\n",
    "for key in all_keys:\n",
    "    new_dict[key] = [card[key] if key in card else None for card in lotr_set]\n",
    "for key in drop_list:\n",
    "    if key in new_dict:\n",
    "        new_dict.pop(key)\n",
    "for key in new_dict:\n",
    "    for i in range(len(new_dict[key])):\n",
    "        if new_dict[key][i] == None:\n",
    "            continue\n",
    "        elif isinstance(new_dict[key][i], list):\n",
    "            lists_keys.append(key)\n",
    "            break\n",
    "        elif isinstance(new_dict[key][i], dict):\n",
    "            dicts_keys.append(key)\n",
    "            break\n",
    "\n",
    "for key in lists_keys:\n",
    "    new_dict.pop(key)\n",
    "for key in dicts_keys:\n",
    "    new_dict.pop(key)\n",
    "\n",
    "lists_keys.append('uuid')\n",
    "lists_keys.append('number')\n",
    "\n",
    "print('New Dict',new_dict.keys())\n",
    "print('Lists',lists_keys)\n",
    "print('dicts',dicts_keys)"
   ]
  },
  {
   "cell_type": "code",
   "execution_count": 31,
   "metadata": {},
   "outputs": [],
   "source": [
    "# Transforming the dictionary into a dataframe\n",
    "df = pd.DataFrame.from_dict(new_dict)\n",
    "df.set_index('uuid', inplace=True)\n",
    "df.sort_values(by=['number'])\n",
    "df = df.dropna(axis=1, how='all')\n",
    "df = df.dropna(axis=0, how='all')\n",
    "df = df.fillna(0)\n"
   ]
  },
  {
   "cell_type": "code",
   "execution_count": null,
   "metadata": {},
   "outputs": [],
   "source": [
    "# save to ltr.db\n",
    "conn = sqlite3.connect('ltr.db')\n",
    "df.to_sql('cards', conn, if_exists='replace')\n",
    "conn.close()"
   ]
  }
 ],
 "metadata": {
  "kernelspec": {
   "display_name": "magictg-lotr-cards-ors2VGY0-py3.11",
   "language": "python",
   "name": "python3"
  },
  "language_info": {
   "codemirror_mode": {
    "name": "ipython",
    "version": 3
   },
   "file_extension": ".py",
   "mimetype": "text/x-python",
   "name": "python",
   "nbconvert_exporter": "python",
   "pygments_lexer": "ipython3",
   "version": "3.11.3"
  },
  "orig_nbformat": 4
 },
 "nbformat": 4,
 "nbformat_minor": 2
}
