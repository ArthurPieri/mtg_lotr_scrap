{
 "cells": [
  {
   "cell_type": "code",
   "execution_count": 12,
   "metadata": {},
   "outputs": [],
   "source": [
    "from functools import wraps\n",
    "import time\n",
    "\n",
    "\n",
    "def timeit(func):\n",
    "    @wraps(func)\n",
    "    def timeit_wrapper(*args, **kwargs):\n",
    "        start_time = time.perf_counter()\n",
    "        result = func(*args, **kwargs)\n",
    "        end_time = time.perf_counter()\n",
    "        total_time = end_time - start_time\n",
    "        print(f'Function {func.__name__} Took {total_time:.4f} seconds')\n",
    "        return result\n",
    "    return timeit_wrapper"
   ]
  },
  {
   "cell_type": "code",
   "execution_count": 13,
   "metadata": {},
   "outputs": [],
   "source": [
    "import pandas as pd\n",
    "import json\n",
    "from pprint import pformat\n",
    "import sqlite3"
   ]
  },
  {
   "cell_type": "code",
   "execution_count": 14,
   "metadata": {},
   "outputs": [
    {
     "name": "stdout",
     "output_type": "stream",
     "text": [
      "Function get_set_from_json Took 0.0199 seconds\n"
     ]
    }
   ],
   "source": [
    "@timeit\n",
    "def get_set_from_json(file_name:str):\n",
    "    with open(file_name) as f:\n",
    "        data = json.load(f)\n",
    "\n",
    "    lotr_set = data['data']['cards']\n",
    "\n",
    "    return lotr_set\n",
    "\n",
    "lotr_set = get_set_from_json('ltr.json')"
   ]
  },
  {
   "cell_type": "code",
   "execution_count": 23,
   "metadata": {},
   "outputs": [
    {
     "name": "stdout",
     "output_type": "stream",
     "text": [
      "Function get_all_keys Took 0.0005 seconds\n"
     ]
    }
   ],
   "source": [
    "@timeit\n",
    "def get_all_keys(json_array:list):\n",
    "    all_keys = set().union(*(d.keys() for d in json_array))\n",
    "    all_keys = sorted(all_keys)\n",
    "    return all_keys\n",
    "\n",
    "all_keys = get_all_keys(lotr_set)"
   ]
  },
  {
   "cell_type": "code",
   "execution_count": 22,
   "metadata": {},
   "outputs": [
    {
     "name": "stdout",
     "output_type": "stream",
     "text": [
      "1 <class 'list'> [{'artist',\n",
      "  'asciiName',\n",
      "  'availability',\n",
      "  'boosterTypes',\n",
      "  'borderColor',\n",
      "  'colorIdentity',\n",
      "  'colors',\n",
      "  'convertedManaCost',\n",
      "  'edhrecRank',\n",
      "  'edhrecSaltiness',\n",
      "  'finishes',\n",
      "  'flavorName',\n",
      "  'flavorText',\n",
      "  'foreignData',\n",
      "  'frameEffects',\n",
      "  'frameVersion',\n",
      "  'hasAlternativeDeckLimit',\n",
      "  'hasFoil',\n",
      "  'hasNonFoil',\n",
      "  'identifiers',\n",
      "  'isAlternative',\n",
      "  'isFullArt',\n",
      "  'isPromo',\n",
      "  'isReprint',\n",
      "  'isStarter',\n",
      "  'keywords',\n",
      "  'language',\n",
      "  'layout',\n",
      "  'leadershipSkills',\n",
      "  'legalities',\n",
      "  'manaCost',\n",
      "  'manaValue',\n",
      "  'name',\n",
      "  'number',\n",
      "  'power',\n",
      "  'printings',\n",
      "  'promoTypes',\n",
      "  'purchaseUrls',\n",
      "  'rarity',\n",
      "  'securityStamp',\n",
      "  'setCode',\n",
      "  'subtypes',\n",
      "  'supertypes',\n",
      "  'text',\n",
      "  'toughness',\n",
      "  'type',\n",
      "  'types',\n",
      "  'uuid',\n",
      "  'variations'}]\n"
     ]
    }
   ],
   "source": [
    "print(len(all_keys),type(all_keys), pformat(all_keys))"
   ]
  },
  {
   "cell_type": "code",
   "execution_count": 11,
   "metadata": {},
   "outputs": [
    {
     "ename": "ValueError",
     "evalue": "list.remove(x): x not in list",
     "output_type": "error",
     "traceback": [
      "\u001b[0;31m---------------------------------------------------------------------------\u001b[0m",
      "\u001b[0;31mValueError\u001b[0m                                Traceback (most recent call last)",
      "Cell \u001b[0;32mIn[11], line 11\u001b[0m\n\u001b[1;32m      8\u001b[0m         all_keys\u001b[39m.\u001b[39mremove(key)\n\u001b[1;32m      9\u001b[0m     \u001b[39mreturn\u001b[39;00m all_keys\n\u001b[0;32m---> 11\u001b[0m all_keys \u001b[39m=\u001b[39m drop_keys(all_keys, drop_list)\n",
      "Cell \u001b[0;32mIn[7], line 9\u001b[0m, in \u001b[0;36mtimeit.<locals>.timeit_wrapper\u001b[0;34m(*args, **kwargs)\u001b[0m\n\u001b[1;32m      6\u001b[0m \u001b[39m@wraps\u001b[39m(func)\n\u001b[1;32m      7\u001b[0m \u001b[39mdef\u001b[39;00m \u001b[39mtimeit_wrapper\u001b[39m(\u001b[39m*\u001b[39margs, \u001b[39m*\u001b[39m\u001b[39m*\u001b[39mkwargs):\n\u001b[1;32m      8\u001b[0m     start_time \u001b[39m=\u001b[39m time\u001b[39m.\u001b[39mperf_counter()\n\u001b[0;32m----> 9\u001b[0m     result \u001b[39m=\u001b[39m func(\u001b[39m*\u001b[39;49margs, \u001b[39m*\u001b[39;49m\u001b[39m*\u001b[39;49mkwargs)\n\u001b[1;32m     10\u001b[0m     end_time \u001b[39m=\u001b[39m time\u001b[39m.\u001b[39mperf_counter()\n\u001b[1;32m     11\u001b[0m     total_time \u001b[39m=\u001b[39m end_time \u001b[39m-\u001b[39m start_time\n",
      "Cell \u001b[0;32mIn[11], line 8\u001b[0m, in \u001b[0;36mdrop_keys\u001b[0;34m(all_keys, keys_to_drop)\u001b[0m\n\u001b[1;32m      5\u001b[0m \u001b[39m@timeit\u001b[39m\n\u001b[1;32m      6\u001b[0m \u001b[39mdef\u001b[39;00m \u001b[39mdrop_keys\u001b[39m(all_keys:\u001b[39mlist\u001b[39m, keys_to_drop:\u001b[39mlist\u001b[39m):\n\u001b[1;32m      7\u001b[0m     \u001b[39mfor\u001b[39;00m key \u001b[39min\u001b[39;00m keys_to_drop:\n\u001b[0;32m----> 8\u001b[0m         all_keys\u001b[39m.\u001b[39;49mremove(key)\n\u001b[1;32m      9\u001b[0m     \u001b[39mreturn\u001b[39;00m all_keys\n",
      "\u001b[0;31mValueError\u001b[0m: list.remove(x): x not in list"
     ]
    }
   ],
   "source": [
    "drop_list = ['availability', 'edhrecRank', 'colorIdentity', 'foreignData', 'frameVersion', 'language', 'layout', \n",
    "    'printings', 'securityStamp', 'setCode', 'boosterTypes', 'hasAlternativeDeckLimit', 'edhrecSaltiness', 'flavorName', \n",
    "    'borderColor', 'isReprint', 'asciiName']\n",
    "\n",
    "@timeit\n",
    "def drop_keys(all_keys:list, keys_to_drop:list):\n",
    "    for key in keys_to_drop:\n",
    "        all_keys.remove(key)\n",
    "    return all_keys\n",
    "\n",
    "all_keys = drop_keys(all_keys, drop_list)"
   ]
  },
  {
   "cell_type": "code",
   "execution_count": null,
   "metadata": {},
   "outputs": [],
   "source": [
    "@timeit\n",
    "def get_dict_of_arrays(all_keys:list, json_array):\n",
    "    _dict = {}\n",
    "    for key in all_keys:\n",
    "        _dict[key] = [card[key] if key in card else None for card in json_array]\n",
    "    return _dict\n",
    "\n",
    "lotr = get_dict_of_arrays(all_keys, lotr_set)\n",
    "print(pformat(lotr))"
   ]
  },
  {
   "cell_type": "code",
   "execution_count": null,
   "metadata": {},
   "outputs": [],
   "source": [
    "@timeit\n",
    "def get_lists_and_dicts(json_array:list):\n",
    "    _lists = {}\n",
    "    _dicts = {}\n",
    "\n",
    "    "
   ]
  }
 ],
 "metadata": {
  "kernelspec": {
   "display_name": "magictg-lotr-cards-ors2VGY0-py3.11",
   "language": "python",
   "name": "python3"
  },
  "language_info": {
   "codemirror_mode": {
    "name": "ipython",
    "version": 3
   },
   "file_extension": ".py",
   "mimetype": "text/x-python",
   "name": "python",
   "nbconvert_exporter": "python",
   "pygments_lexer": "ipython3",
   "version": "3.11.3"
  },
  "orig_nbformat": 4
 },
 "nbformat": 4,
 "nbformat_minor": 2
}
