{
 "cells": [
  {
   "cell_type": "code",
   "execution_count": null,
   "metadata": {},
   "outputs": [],
   "source": [
    "import pandas as pd\n",
    "import json\n",
    "from pprint import pformat\n",
    "import sqlite3\n",
    "#\n",
    "from functools import wraps\n",
    "import time\n",
    "\n",
    "\n",
    "def timeit(func):\n",
    "    @wraps(func)\n",
    "    def timeit_wrapper(*args, **kwargs):\n",
    "        start_time = time.perf_counter()\n",
    "        result = func(*args, **kwargs)\n",
    "        end_time = time.perf_counter()\n",
    "        total_time = end_time - start_time\n",
    "        print(f'Function {func.__name__} Took {total_time:.4f} seconds')\n",
    "        return result\n",
    "    return timeit_wrapper"
   ]
  },
  {
   "cell_type": "code",
   "execution_count": null,
   "metadata": {},
   "outputs": [],
   "source": [
    "@timeit\n",
    "def get_set_from_json(file_name:str):\n",
    "    with open(file_name) as f:\n",
    "        data = json.load(f)\n",
    "\n",
    "    lotr_set = data['data']['cards']\n",
    "\n",
    "    return lotr_set\n",
    "\n",
    "lotr_set = get_set_from_json('ltr.json')"
   ]
  },
  {
   "cell_type": "code",
   "execution_count": null,
   "metadata": {},
   "outputs": [],
   "source": [
    "@timeit\n",
    "def get_all_keys(json_array:list):\n",
    "    all_keys = set().union(*(d.keys() for d in json_array))\n",
    "    all_keys = sorted(all_keys)\n",
    "    return all_keys\n",
    "\n",
    "all_keys = get_all_keys(lotr_set)"
   ]
  },
  {
   "cell_type": "code",
   "execution_count": null,
   "metadata": {},
   "outputs": [],
   "source": [
    "\n",
    "for card in lotr_set:\n",
    "    for key in card.keys():\n",
    "        if key not in all_keys:\n",
    "            continue\n",
    "        elif card[key] is None:\n",
    "            print(f'Key {key} is None')\n",
    "            continue\n",
    "        elif isinstance(card[key], list):\n",
    "            print(f'Key {key} is a list')\n",
    "            continue"
   ]
  },
  {
   "cell_type": "code",
   "execution_count": null,
   "metadata": {},
   "outputs": [],
   "source": [
    "print(len(all_keys),type(all_keys), all_keys)"
   ]
  },
  {
   "cell_type": "code",
   "execution_count": null,
   "metadata": {},
   "outputs": [],
   "source": [
    "drop_list = ['artist','availability','borderColor','colors','colorIdentity',\n",
    "    'convertedManaCost','edhrecRank','colorIdentity','foreignData',\n",
    "    'frameVersion','isStarter','language','layout','legalities',\n",
    "    'manaCost','manaValue','printings','securityStamp','setCode',\n",
    "    'power', 'toughness', 'edhrecSaltiness','isReprint','flavorName',\n",
    "    'hasAlternativeDeckLimit',]\n",
    "\n",
    "@timeit\n",
    "def drop_keys(all_keys:list, keys_to_drop:list):\n",
    "    for key in keys_to_drop:\n",
    "        print(f'Dropping {key}')\n",
    "        try:\n",
    "            all_keys.remove(key)\n",
    "        except:\n",
    "            print(f'Key {key} not found')\n",
    "    return all_keys\n",
    "\n",
    "all_keys = drop_keys(all_keys, drop_list)\n",
    "print(len(all_keys),type(all_keys), all_keys)"
   ]
  },
  {
   "cell_type": "code",
   "execution_count": null,
   "metadata": {},
   "outputs": [],
   "source": [
    "@timeit\n",
    "def get_dict_of_arrays(all_keys:list, json_array):\n",
    "    _dict = {}\n",
    "    for key in all_keys:\n",
    "        _dict[key] = [card[key] if key in card else None for card in json_array]\n",
    "    return _dict\n",
    "\n",
    "lotr = get_dict_of_arrays(all_keys, lotr_set)\n",
    "print(lotr)"
   ]
  },
  {
   "cell_type": "code",
   "execution_count": null,
   "metadata": {},
   "outputs": [],
   "source": [
    "for key in lotr:\n",
    "    print(key, len(lotr[key]))"
   ]
  },
  {
   "cell_type": "code",
   "execution_count": null,
   "metadata": {},
   "outputs": [],
   "source": [
    "@timeit\n",
    "for key in lotr:\n",
    "    print(key, len(lotr[key]))"
   ]
  },
  {
   "cell_type": "code",
   "execution_count": null,
   "metadata": {},
   "outputs": [],
   "source": [
    "# IGNORAR ISSO\n",
    "@timeit\n",
    "def get_lists_and_dicts(json_array:list, keys_to_replicate:list) -> [list, dict]:\n",
    "    _lists = {}\n",
    "    _dicts = {}\n",
    "\n",
    "    for item in json_array:\n",
    "        for key in item:\n",
    "            if isinstance(item[key], list):\n",
    "                if key not in _lists:\n",
    "                    _lists[key] = []\n",
    "                for i in item[key]:\n",
    "                    new = {}\n",
    "                    new[key] = item[key]\n",
    "                    for k in keys_to_replicate:\n",
    "                        new[k] = item[k]\n",
    "                    _lists[key].append(new)\n",
    "                new = {}\n",
    "                for k in keys_to_replicate:\n",
    "                    new[k] = item[k]\n",
    "                \n",
    "                _lists[key].append(new)\n",
    "            elif isinstance(item[key], dict):\n",
    "                if key not in _dicts:\n",
    "                    _dicts[key] = []\n",
    "                new = {}\n",
    "                for k in keys_to_replicate:\n",
    "                    new[k] = item[k]\n",
    "                new[key] = item[key]\n",
    "                _lists[key].append(new)\n",
    "    \n",
    "    return _lists, _dicts\n",
    "\n",
    "    "
   ]
  }
 ],
 "metadata": {
  "kernelspec": {
   "display_name": "magictg-lotr-cards-ors2VGY0-py3.11",
   "language": "python",
   "name": "python3"
  },
  "language_info": {
   "codemirror_mode": {
    "name": "ipython",
    "version": 3
   },
   "file_extension": ".py",
   "mimetype": "text/x-python",
   "name": "python",
   "nbconvert_exporter": "python",
   "pygments_lexer": "ipython3",
   "version": "3.11.3"
  },
  "orig_nbformat": 4
 },
 "nbformat": 4,
 "nbformat_minor": 2
}
