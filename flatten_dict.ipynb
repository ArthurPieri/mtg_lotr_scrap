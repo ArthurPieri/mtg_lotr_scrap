{
 "cells": [
  {
   "cell_type": "code",
   "execution_count": 1,
   "metadata": {},
   "outputs": [],
   "source": [
    "import pandas as pd\n",
    "import json\n",
    "from pprint import pformat\n",
    "import sqlite3\n",
    "#\n",
    "from functools import wraps\n",
    "import time\n",
    "\n",
    "\n",
    "def timeit(func):\n",
    "    @wraps(func)\n",
    "    def timeit_wrapper(*args, **kwargs):\n",
    "        start_time = time.perf_counter()\n",
    "        result = func(*args, **kwargs)\n",
    "        end_time = time.perf_counter()\n",
    "        total_time = end_time - start_time\n",
    "        print(f'Function {func.__name__} Took {total_time:.4f} seconds')\n",
    "        return result\n",
    "    return timeit_wrapper"
   ]
  },
  {
   "cell_type": "code",
   "execution_count": 36,
   "metadata": {},
   "outputs": [
    {
     "name": "stdout",
     "output_type": "stream",
     "text": [
      "Function get_set_from_json Took 0.0233 seconds\n"
     ]
    }
   ],
   "source": [
    "@timeit\n",
    "def get_set_from_json(file_name:str):\n",
    "    with open(file_name) as f:\n",
    "        data = json.load(f)\n",
    "\n",
    "    lotr_set = data['data']['cards']\n",
    "\n",
    "    return lotr_set\n",
    "\n",
    "lotr_set = get_set_from_json('ltr.json')"
   ]
  },
  {
   "cell_type": "code",
   "execution_count": 32,
   "metadata": {},
   "outputs": [],
   "source": [
    "drop_list = ['artist','availability','borderColor','colors','colorIdentity',\n",
    "    'convertedManaCost','edhrecRank','colorIdentity','foreignData',\n",
    "    'frameVersion','isStarter','language','layout','legalities',\n",
    "    'manaCost','manaValue','printings','securityStamp','setCode',\n",
    "    'power', 'toughness', 'edhrecSaltiness','isReprint','flavorName',\n",
    "    'hasAlternativeDeckLimit']\n",
    "\n",
    "all_keys = set().union(*(d.keys() for d in lotr_set))\n",
    "all_keys = sorted(all_keys)\n",
    "new_dict = {}\n",
    "lists_keys = []\n",
    "dicts_keys = []\n",
    "for key in all_keys:\n",
    "    new_dict[key] = [card[key] if key in card else None for card in lotr_set]\n",
    "for key in drop_list:\n",
    "    if key in new_dict:\n",
    "        new_dict.pop(key)\n",
    "for key in new_dict:\n",
    "    for i in range(len(new_dict[key])):\n",
    "        if new_dict[key][i] == None:\n",
    "            continue\n",
    "        elif isinstance(new_dict[key][i], list):\n",
    "            lists_keys.append(key)\n",
    "            break\n",
    "        elif isinstance(new_dict[key][i], dict):\n",
    "            dicts_keys.append(key)\n",
    "            break\n",
    "lists_keys.append('uuid')\n",
    "lists_keys.append('number')\n",
    "flat_lst = {}\n",
    "flat_dict = {}\n",
    "for key in lists_keys:\n",
    "    flat_lst[key] = []\n",
    "    for i in range(len(new_dict[key])):\n",
    "        if new_dict[key][i] == None:\n",
    "            flat_lst[key].append(None)\n",
    "            continue\n",
    "        flat_lst[key].append(new_dict[key][i])\n",
    "    new_dict.pop(key)\n",
    "# preciso pegar de novo e salvar, mas preciso do uuid para fazer o join depois\n",
    "for key in dicts_keys:\n",
    "    flat_dict[key] = []\n",
    "    for i in range(len(new_dict[key])):\n",
    "        # flat_dict[key][i]['uuid'] = new_dict['uuid'][i]\n",
    "        if new_dict[key][i] == None:\n",
    "            flat_dict[key].append(None)\n",
    "            continue\n",
    "        flat_dict[key].append(new_dict[key][i])\n",
    "    new_dict.pop(key)\n",
    "            "
   ]
  },
  {
   "cell_type": "code",
   "execution_count": 17,
   "metadata": {},
   "outputs": [
    {
     "name": "stdout",
     "output_type": "stream",
     "text": [
      "dict_keys(['boosterTypes', 'uuid', 'finishes', 'frameEffects', 'keywords', 'promoTypes', 'subtypes', 'supertypes', 'types', 'variations'])\n",
      "dict_keys(['identifiers', 'leadershipSkills', 'purchaseUrls'])\n",
      "dict_keys(['asciiName', 'flavorText', 'hasFoil', 'hasNonFoil', 'isAlternative', 'isFullArt', 'isPromo', 'name', 'number', 'rarity', 'text', 'type', 'uuid'])\n"
     ]
    }
   ],
   "source": [
    "print(flat_lst.keys())\n",
    "print(flat_dict.keys())\n",
    "print(new_dict.keys())"
   ]
  },
  {
   "cell_type": "code",
   "execution_count": 30,
   "metadata": {},
   "outputs": [
    {
     "name": "stdout",
     "output_type": "stream",
     "text": [
      "{'mcmId': '701764',\n",
      " 'mcmMetaId': '417594',\n",
      " 'mtgjsonV4Id': 'c2532311-a3bd-5ded-ae7a-169dc969cf70',\n",
      " 'mtgoId': '113219',\n",
      " 'scryfallId': '93de9042-cc62-4ade-8d8d-68fdbc84bfae',\n",
      " 'scryfallIllustrationId': 'a6795e84-6dd5-4795-a481-bc26b0b13ca4',\n",
      " 'scryfallOracleId': '3aa83ed2-f48b-4ce6-a614-2c54ddf50538'}\n",
      "dict_keys(['identifiers', 'leadershipSkills', 'purchaseUrls'])\n"
     ]
    }
   ],
   "source": [
    "print(pformat(flat_dict['identifiers'][0]))\n",
    "print(flat_dict.keys())"
   ]
  },
  {
   "cell_type": "code",
   "execution_count": 19,
   "metadata": {},
   "outputs": [],
   "source": [
    "# create a dataframe from the dictionary\n",
    "df = pd.DataFrame(new_dict)\n",
    "# set uuid as primary key and number as index\n",
    "df.set_index('uuid', inplace=True)\n",
    "df.sort_values(by='number', inplace=True)\n",
    "# save df to lotr.db\n",
    "conn = sqlite3.connect('lotr.db')\n",
    "df.to_sql('cards', conn, if_exists='replace', index=False)\n",
    "conn.close()"
   ]
  },
  {
   "cell_type": "code",
   "execution_count": 33,
   "metadata": {},
   "outputs": [
    {
     "name": "stdout",
     "output_type": "stream",
     "text": [
      "boosterTypes 462\n",
      "finishes 462\n",
      "frameEffects 462\n",
      "keywords 462\n",
      "promoTypes 462\n",
      "subtypes 462\n",
      "supertypes 462\n",
      "types 462\n",
      "variations 462\n",
      "uuid 462\n",
      "number 462\n"
     ]
    }
   ],
   "source": [
    "for key in flat_lst.keys():\n",
    "    print(key, len(flat_lst[key]))"
   ]
  },
  {
   "cell_type": "code",
   "execution_count": 35,
   "metadata": {},
   "outputs": [
    {
     "ename": "ProgrammingError",
     "evalue": "Error binding parameter 2: type 'list' is not supported",
     "output_type": "error",
     "traceback": [
      "\u001b[0;31m---------------------------------------------------------------------------\u001b[0m",
      "\u001b[0;31mProgrammingError\u001b[0m                          Traceback (most recent call last)",
      "Cell \u001b[0;32mIn[35], line 5\u001b[0m\n\u001b[1;32m      3\u001b[0m df\u001b[39m.\u001b[39msort_values(by\u001b[39m=\u001b[39m\u001b[39m'\u001b[39m\u001b[39mnumber\u001b[39m\u001b[39m'\u001b[39m, inplace\u001b[39m=\u001b[39m\u001b[39mTrue\u001b[39;00m)\n\u001b[1;32m      4\u001b[0m conn \u001b[39m=\u001b[39m sqlite3\u001b[39m.\u001b[39mconnect(\u001b[39m'\u001b[39m\u001b[39mlotr.db\u001b[39m\u001b[39m'\u001b[39m)\n\u001b[0;32m----> 5\u001b[0m df\u001b[39m.\u001b[39;49mto_sql(\u001b[39m'\u001b[39;49m\u001b[39mlists\u001b[39;49m\u001b[39m'\u001b[39;49m, conn, if_exists\u001b[39m=\u001b[39;49m\u001b[39m'\u001b[39;49m\u001b[39mreplace\u001b[39;49m\u001b[39m'\u001b[39;49m, index\u001b[39m=\u001b[39;49m\u001b[39mFalse\u001b[39;49;00m)\n\u001b[1;32m      6\u001b[0m conn\u001b[39m.\u001b[39mclose()\n",
      "File \u001b[0;32m~/Library/Caches/pypoetry/virtualenvs/magictg-lotr-cards-ors2VGY0-py3.11/lib/python3.11/site-packages/pandas/core/generic.py:2878\u001b[0m, in \u001b[0;36mNDFrame.to_sql\u001b[0;34m(self, name, con, schema, if_exists, index, index_label, chunksize, dtype, method)\u001b[0m\n\u001b[1;32m   2713\u001b[0m \u001b[39m\u001b[39m\u001b[39m\"\"\"\u001b[39;00m\n\u001b[1;32m   2714\u001b[0m \u001b[39mWrite records stored in a DataFrame to a SQL database.\u001b[39;00m\n\u001b[1;32m   2715\u001b[0m \n\u001b[0;32m   (...)\u001b[0m\n\u001b[1;32m   2874\u001b[0m \u001b[39m[(1,), (None,), (2,)]\u001b[39;00m\n\u001b[1;32m   2875\u001b[0m \u001b[39m\"\"\"\u001b[39;00m  \u001b[39m# noqa:E501\u001b[39;00m\n\u001b[1;32m   2876\u001b[0m \u001b[39mfrom\u001b[39;00m \u001b[39mpandas\u001b[39;00m\u001b[39m.\u001b[39;00m\u001b[39mio\u001b[39;00m \u001b[39mimport\u001b[39;00m sql\n\u001b[0;32m-> 2878\u001b[0m \u001b[39mreturn\u001b[39;00m sql\u001b[39m.\u001b[39;49mto_sql(\n\u001b[1;32m   2879\u001b[0m     \u001b[39mself\u001b[39;49m,\n\u001b[1;32m   2880\u001b[0m     name,\n\u001b[1;32m   2881\u001b[0m     con,\n\u001b[1;32m   2882\u001b[0m     schema\u001b[39m=\u001b[39;49mschema,\n\u001b[1;32m   2883\u001b[0m     if_exists\u001b[39m=\u001b[39;49mif_exists,\n\u001b[1;32m   2884\u001b[0m     index\u001b[39m=\u001b[39;49mindex,\n\u001b[1;32m   2885\u001b[0m     index_label\u001b[39m=\u001b[39;49mindex_label,\n\u001b[1;32m   2886\u001b[0m     chunksize\u001b[39m=\u001b[39;49mchunksize,\n\u001b[1;32m   2887\u001b[0m     dtype\u001b[39m=\u001b[39;49mdtype,\n\u001b[1;32m   2888\u001b[0m     method\u001b[39m=\u001b[39;49mmethod,\n\u001b[1;32m   2889\u001b[0m )\n",
      "File \u001b[0;32m~/Library/Caches/pypoetry/virtualenvs/magictg-lotr-cards-ors2VGY0-py3.11/lib/python3.11/site-packages/pandas/io/sql.py:769\u001b[0m, in \u001b[0;36mto_sql\u001b[0;34m(frame, name, con, schema, if_exists, index, index_label, chunksize, dtype, method, engine, **engine_kwargs)\u001b[0m\n\u001b[1;32m    764\u001b[0m     \u001b[39mraise\u001b[39;00m \u001b[39mNotImplementedError\u001b[39;00m(\n\u001b[1;32m    765\u001b[0m         \u001b[39m\"\u001b[39m\u001b[39m'\u001b[39m\u001b[39mframe\u001b[39m\u001b[39m'\u001b[39m\u001b[39m argument should be either a Series or a DataFrame\u001b[39m\u001b[39m\"\u001b[39m\n\u001b[1;32m    766\u001b[0m     )\n\u001b[1;32m    768\u001b[0m \u001b[39mwith\u001b[39;00m pandasSQL_builder(con, schema\u001b[39m=\u001b[39mschema, need_transaction\u001b[39m=\u001b[39m\u001b[39mTrue\u001b[39;00m) \u001b[39mas\u001b[39;00m pandas_sql:\n\u001b[0;32m--> 769\u001b[0m     \u001b[39mreturn\u001b[39;00m pandas_sql\u001b[39m.\u001b[39;49mto_sql(\n\u001b[1;32m    770\u001b[0m         frame,\n\u001b[1;32m    771\u001b[0m         name,\n\u001b[1;32m    772\u001b[0m         if_exists\u001b[39m=\u001b[39;49mif_exists,\n\u001b[1;32m    773\u001b[0m         index\u001b[39m=\u001b[39;49mindex,\n\u001b[1;32m    774\u001b[0m         index_label\u001b[39m=\u001b[39;49mindex_label,\n\u001b[1;32m    775\u001b[0m         schema\u001b[39m=\u001b[39;49mschema,\n\u001b[1;32m    776\u001b[0m         chunksize\u001b[39m=\u001b[39;49mchunksize,\n\u001b[1;32m    777\u001b[0m         dtype\u001b[39m=\u001b[39;49mdtype,\n\u001b[1;32m    778\u001b[0m         method\u001b[39m=\u001b[39;49mmethod,\n\u001b[1;32m    779\u001b[0m         engine\u001b[39m=\u001b[39;49mengine,\n\u001b[1;32m    780\u001b[0m         \u001b[39m*\u001b[39;49m\u001b[39m*\u001b[39;49mengine_kwargs,\n\u001b[1;32m    781\u001b[0m     )\n",
      "File \u001b[0;32m~/Library/Caches/pypoetry/virtualenvs/magictg-lotr-cards-ors2VGY0-py3.11/lib/python3.11/site-packages/pandas/io/sql.py:2379\u001b[0m, in \u001b[0;36mSQLiteDatabase.to_sql\u001b[0;34m(self, frame, name, if_exists, index, index_label, schema, chunksize, dtype, method, engine, **engine_kwargs)\u001b[0m\n\u001b[1;32m   2369\u001b[0m table \u001b[39m=\u001b[39m SQLiteTable(\n\u001b[1;32m   2370\u001b[0m     name,\n\u001b[1;32m   2371\u001b[0m     \u001b[39mself\u001b[39m,\n\u001b[0;32m   (...)\u001b[0m\n\u001b[1;32m   2376\u001b[0m     dtype\u001b[39m=\u001b[39mdtype,\n\u001b[1;32m   2377\u001b[0m )\n\u001b[1;32m   2378\u001b[0m table\u001b[39m.\u001b[39mcreate()\n\u001b[0;32m-> 2379\u001b[0m \u001b[39mreturn\u001b[39;00m table\u001b[39m.\u001b[39;49minsert(chunksize, method)\n",
      "File \u001b[0;32m~/Library/Caches/pypoetry/virtualenvs/magictg-lotr-cards-ors2VGY0-py3.11/lib/python3.11/site-packages/pandas/io/sql.py:1023\u001b[0m, in \u001b[0;36mSQLTable.insert\u001b[0;34m(self, chunksize, method)\u001b[0m\n\u001b[1;32m   1020\u001b[0m     \u001b[39mbreak\u001b[39;00m\n\u001b[1;32m   1022\u001b[0m chunk_iter \u001b[39m=\u001b[39m \u001b[39mzip\u001b[39m(\u001b[39m*\u001b[39m(arr[start_i:end_i] \u001b[39mfor\u001b[39;00m arr \u001b[39min\u001b[39;00m data_list))\n\u001b[0;32m-> 1023\u001b[0m num_inserted \u001b[39m=\u001b[39m exec_insert(conn, keys, chunk_iter)\n\u001b[1;32m   1024\u001b[0m \u001b[39m# GH 46891\u001b[39;00m\n\u001b[1;32m   1025\u001b[0m \u001b[39mif\u001b[39;00m is_integer(num_inserted):\n",
      "File \u001b[0;32m~/Library/Caches/pypoetry/virtualenvs/magictg-lotr-cards-ors2VGY0-py3.11/lib/python3.11/site-packages/pandas/io/sql.py:2075\u001b[0m, in \u001b[0;36mSQLiteTable._execute_insert\u001b[0;34m(self, conn, keys, data_iter)\u001b[0m\n\u001b[1;32m   2073\u001b[0m \u001b[39mdef\u001b[39;00m \u001b[39m_execute_insert\u001b[39m(\u001b[39mself\u001b[39m, conn, keys, data_iter) \u001b[39m-\u001b[39m\u001b[39m>\u001b[39m \u001b[39mint\u001b[39m:\n\u001b[1;32m   2074\u001b[0m     data_list \u001b[39m=\u001b[39m \u001b[39mlist\u001b[39m(data_iter)\n\u001b[0;32m-> 2075\u001b[0m     conn\u001b[39m.\u001b[39;49mexecutemany(\u001b[39mself\u001b[39;49m\u001b[39m.\u001b[39;49minsert_statement(num_rows\u001b[39m=\u001b[39;49m\u001b[39m1\u001b[39;49m), data_list)\n\u001b[1;32m   2076\u001b[0m     \u001b[39mreturn\u001b[39;00m conn\u001b[39m.\u001b[39mrowcount\n",
      "\u001b[0;31mProgrammingError\u001b[0m: Error binding parameter 2: type 'list' is not supported"
     ]
    }
   ],
   "source": [
    "df = pd.DataFrame(flat_lst)\n",
    "df.set_index('uuid', inplace=True)\n",
    "df.sort_values(by='number', inplace=True)\n",
    "conn = sqlite3.connect('lotr.db')\n",
    "df.to_sql('lists', conn, if_exists='replace', index=False)\n",
    "conn.close()"
   ]
  }
 ],
 "metadata": {
  "kernelspec": {
   "display_name": "magictg-lotr-cards-ors2VGY0-py3.11",
   "language": "python",
   "name": "python3"
  },
  "language_info": {
   "codemirror_mode": {
    "name": "ipython",
    "version": 3
   },
   "file_extension": ".py",
   "mimetype": "text/x-python",
   "name": "python",
   "nbconvert_exporter": "python",
   "pygments_lexer": "ipython3",
   "version": "3.11.3"
  },
  "orig_nbformat": 4
 },
 "nbformat": 4,
 "nbformat_minor": 2
}
